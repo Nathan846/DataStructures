{
 "cells": [
  {
   "cell_type": "markdown",
   "metadata": {},
   "source": []
  },
  {
   "cell_type": "code",
   "execution_count": 5,
   "metadata": {},
   "outputs": [],
   "source": [
    "from collections.abc import MutableMapping\n",
    "class map_base(MutableMapping):\n",
    "    class _item:\n",
    "        def __init__(self,k,v):\n",
    "            self._key=k\n",
    "            self._value=v\n",
    "    def __eq__(self,other):\n",
    "        return self._key==other._key\n",
    "    def __ne__(self,other):\n",
    "        return not(self==other)\n",
    "    def __lt__(self,other):\n",
    "        return self._key<other._key"
   ]
  },
  {
   "cell_type": "code",
   "execution_count": 41,
   "metadata": {},
   "outputs": [],
   "source": [
    "class Unsorted_tablemap(map_base):\n",
    "    def __init__(self):\n",
    "        self._table=[]\n",
    "    def __getitem__(self,k):\n",
    "        for item in self._table:\n",
    "            if(item._key==k):\n",
    "                return item._value\n",
    "        raise KeyError('KeyError: '+ k)\n",
    "    def __setitem__(self,k,v):\n",
    "        for item in self._table:\n",
    "            if(k==item._key):\n",
    "                item._value=v\n",
    "                return\n",
    "        self._table.append(self._item(k,v))\n",
    "    def __delitem__(self,k):\n",
    "        for j in range(len(self._table)):\n",
    "            if(k==self._table[j]._key):\n",
    "                self._table.pop(j)\n",
    "                return\n",
    "        raise KeyError('Key Error'+k)\n",
    "    def __len__(self):\n",
    "        return len(self._table)\n",
    "    def __iter__(self):\n",
    "        for item in self._table:\n",
    "            yield item._key"
   ]
  },
  {
   "cell_type": "code",
   "execution_count": 7,
   "metadata": {},
   "outputs": [
    {
     "name": "stdout",
     "output_type": "stream",
     "text": [
      "10\n",
      "10\n",
      "h\n",
      "p\n"
     ]
    }
   ],
   "source": [
    "M=Unsorted_tablemap()\n",
    "M['l']=1\n",
    "M[1]=3\n",
    "M[100]='h'\n",
    "M[(6,7)]='p'\n",
    "L=[7,8]\n",
    "M[L]=10\n",
    "print(M[L])\n",
    "L.append(7)\n",
    "print(M[L])\n",
    "\n",
    "'''No error in using list in the unsortedtablemap method'''\n",
    "#d={} \n",
    "#d[[6,7,4]]=1 returns 'mutable' type error\n",
    "print(M[100])\n",
    "print(M[(6,7)])"
   ]
  },
  {
   "cell_type": "code",
   "execution_count": 42,
   "metadata": {},
   "outputs": [],
   "source": [
    "from random import randrange\n",
    "class HashMapBase(map_base):\n",
    "    def __init__(self,cap=11,p=109345121):\n",
    "        self._table=[None for i in range(cap)]\n",
    "        self._n=0\n",
    "        self._prime=p\n",
    "        self._scale=1+randrange(p-1)\n",
    "        self._shift=randrange(p)\n",
    "    def _hash_function(self,k):\n",
    "        return (hash(k)*self._scale+self._shift)%self._prime%len(self._table)#Linear Probing\n",
    "    #for quadratic probing,\n",
    "    '''while(True):\n",
    "    i+=1\n",
    "    g=(hash(k)+i^2)%len(self._table)\n",
    "    if(self._is_available(g)):\n",
    "    return g\n",
    "    This can only be implemented in open addressing hashing(and not in chaining). \n",
    "    '''\n",
    "    def __len__(self):\n",
    "        return self._n\n",
    "    def __getitem__(self,k):\n",
    "        j=self._hash_function(k)\n",
    "        return self._bucket_getitem(j,k)\n",
    "    def __setitem__(self,k,v):\n",
    "        j=self._hash_function(k)\n",
    "        self._bucket_setitem(j,k,v)\n",
    "        if(self._n>len(self._table)//2):\n",
    "            self._resize(2*len(self._table))\n",
    "        return\n",
    "    def __delitem__(self,k):\n",
    "        j=self._hash_function(k)\n",
    "        self._bucket_delitem(j,k)\n",
    "        self._n-=1\n",
    "    def _resize(self,k):\n",
    "        #print(k)\n",
    "        old=list(self.items())\n",
    "        self._table=k*[None]\n",
    "        self._n=0\n",
    "        for k,v in old:\n",
    "            self[k]=v"
   ]
  },
  {
   "cell_type": "code",
   "execution_count": 44,
   "metadata": {},
   "outputs": [],
   "source": [
    "class ChainHashMap(HashMapBase):\n",
    "    def _bucket_getitem(self,j,k):\n",
    "        bucket=self._table[j]\n",
    "        if(bucket[k] is None):\n",
    "            raise KeyError('KeyError'+str(k))\n",
    "        return bucket[k]\n",
    "    def _bucket_setitem(self,j,k,v):\n",
    "        if self._table[j] is None:\n",
    "            self._table[j]=Unsorted_tablemap()\n",
    "        oldsize=len(self._table[j])\n",
    "        self._table[j][k]=v\n",
    "        if(len(self._table[j])>oldsize):\n",
    "            self._n+=1\n",
    "    def _bucket_delitem(self,j,k):\n",
    "        bucket=self._table[j]\n",
    "        if(bucket is None):\n",
    "            raise TypeError('keyerror'+str(k))\n",
    "        del bucket[k]\n",
    "    def __iter__(self):\n",
    "        for bucket in self._table:\n",
    "            if bucket is not None:\n",
    "                for key in bucket:\n",
    "                    yield key"
   ]
  },
  {
   "cell_type": "code",
   "execution_count": 49,
   "metadata": {},
   "outputs": [
    {
     "name": "stdout",
     "output_type": "stream",
     "text": [
      "166.56705498695374 secs\n"
     ]
    }
   ],
   "source": [
    "F=ChainHashMap()\n",
    "from time import time\n",
    "from random import randint\n",
    "keys=[]\n",
    "st=time()\n",
    "for i in range(10000000):\n",
    "    keys=randint(1,100000)\n",
    "    values = randint(1,100000)\n",
    "    F[keys]=values\n",
    "print(time()-st,'secs')"
   ]
  },
  {
   "cell_type": "code",
   "execution_count": 29,
   "metadata": {},
   "outputs": [],
   "source": [
    "class ProbeHashMap(HashMapBase):\n",
    "    _AVAIL=object()\n",
    "    def _is_available(self,j):\n",
    "        return self._table[j] is None or self._table[j] is ProbeHashMap._AVAIL\n",
    "    def _find_slot(self,j,k):\n",
    "        first_avail=None\n",
    "        while(True):\n",
    "            if(self._is_available(j)):\n",
    "                if(first_avail is None):\n",
    "                    first_avail=j\n",
    "                if(self._table[j] is None):\n",
    "                    return False,first_avail\n",
    "            elif(k==self._table[j]._key):\n",
    "                return True,j\n",
    "            j=(j+1)%(len(self._table))\n",
    "        return\n",
    "    def _bucket_getitem(self,j,k):\n",
    "        found,s=self._find_slot(j,k)\n",
    "        if(not found):\n",
    "            raise KeyError('Key Error'+repr(k))\n",
    "        return self._table[s]._value\n",
    "    def _bucket_setitem(self,j,k,v):\n",
    "        found,s=self._find_slot(j,k)\n",
    "        if(not found):\n",
    "            self._table[s]=self._item(k,v)\n",
    "            self._n+=1\n",
    "        else:\n",
    "            self._table[s]._value=v\n",
    "        return\n",
    "    def _bucket_delitem(self,j,k):\n",
    "        found,s=self._find_slot(j,k)\n",
    "        if(not found):\n",
    "            raise KeyError('Key Error'+repr(k))\n",
    "        self._table[s]=ProbeHashMap._AVAIL\n",
    "        return\n",
    "    def __iter__(self):\n",
    "        for j in range(len(self._table)):\n",
    "            if(not self._is_available(j)):\n",
    "                yield self._table[j]._key"
   ]
  },
  {
   "cell_type": "code",
   "execution_count": 48,
   "metadata": {},
   "outputs": [
    {
     "name": "stdout",
     "output_type": "stream",
     "text": [
      "140.82583832740784 secs\n"
     ]
    }
   ],
   "source": [
    "F=ProbeHashMap()\n",
    "from time import time\n",
    "from random import randint\n",
    "keys=[]\n",
    "st=time()\n",
    "for i in range(10000000):\n",
    "    keys=randint(1,10000)\n",
    "    values = randint(1,100)\n",
    "    F[keys]=values\n",
    "print(time()-st,'secs')"
   ]
  },
  {
   "cell_type": "code",
   "execution_count": 63,
   "metadata": {},
   "outputs": [
    {
     "name": "stdout",
     "output_type": "stream",
     "text": [
      "<object object at 0x00000190ECC0F4C0>\n",
      "107622436684 1721958986944\n"
     ]
    }
   ],
   "source": [
    "#Object at 'x' refers to the position in memory and id(x) returns the position as well\n",
    "#\n",
    "t=object()\n",
    "t=object()\n",
    "print(t)\n",
    "print(hash(t),id(t))"
   ]
  }
 ],
 "metadata": {
  "kernelspec": {
   "display_name": "Python 3",
   "language": "python",
   "name": "python3"
  },
  "language_info": {
   "codemirror_mode": {
    "name": "ipython",
    "version": 3
   },
   "file_extension": ".py",
   "mimetype": "text/x-python",
   "name": "python",
   "nbconvert_exporter": "python",
   "pygments_lexer": "ipython3",
   "version": "3.7.4"
  }
 },
 "nbformat": 4,
 "nbformat_minor": 2
}
