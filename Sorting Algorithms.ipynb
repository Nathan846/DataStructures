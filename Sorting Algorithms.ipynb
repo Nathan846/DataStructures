{
 "cells": [
  {
   "cell_type": "code",
   "execution_count": 1,
   "metadata": {},
   "outputs": [],
   "source": [
    "def insertionSort(arr): \n",
    "    for i in range(1, len(arr)): \n",
    "        key = arr[i]  \n",
    "        j = i-1\n",
    "        while j >= 0 and key < arr[j] : \n",
    "            arr[j + 1] = arr[j] \n",
    "            j -= 1\n",
    "        arr[j + 1] = key\n",
    "    return arr\n",
    "#Has an upper bound of O(n^2) but the worst case can also be written as O(n+m) where m is the no. of 'inversions'\n",
    "#Has a lower bound of O(n) if the list is already sorted(i.e m=0)\n",
    "#Works exceptionally well for small sequences, hence adopted in python's sort() and sorted()\n",
    "#sort() uses a combination of insertion and merge sorts, where insertion sort is applied on small chunks while\n",
    "#merge sort is used to 'conquer' these small chunks."
   ]
  },
  {
   "cell_type": "code",
   "execution_count": 4,
   "metadata": {},
   "outputs": [
    {
     "name": "stdout",
     "output_type": "stream",
     "text": [
      "[1, 2, 4, 5, 6, 10, 12, 14, 15, 18, 26, 35, 42]\n"
     ]
    }
   ],
   "source": [
    "L=[1,35,12,42,18,14,6,26,15,10,4,2,5]\n",
    "print(insertionSort(L))"
   ]
  },
  {
   "cell_type": "code",
   "execution_count": 8,
   "metadata": {},
   "outputs": [],
   "source": [
    "def selectionSort(a):\n",
    "    for j in range(len(a)-1):\n",
    "        minimum = j #assume that element with j index is minimum\n",
    "        for i in range(j+1, len(a)): #compare it with unsorted elements(we leave the sorted elements behind) \n",
    "            if(a[i]<a[minimum]):\n",
    "                minimum = i #update minimum index with the smaller element\n",
    "        a[j],a[minimum]=a[minimum],a[j] #swap the elements that are assumed minimum and actual minimum found in unsorted list\n",
    "    return a\n",
    "#Has an upper bound of O(n^2) and a lower bound of Sigma(n^2). Marginally better than bubble sort."
   ]
  },
  {
   "cell_type": "code",
   "execution_count": 9,
   "metadata": {},
   "outputs": [
    {
     "name": "stdout",
     "output_type": "stream",
     "text": [
      "[1, 2, 4, 5, 6, 10, 12, 14, 15, 18, 26, 35, 42]\n"
     ]
    }
   ],
   "source": [
    "L=[1,35,12,42,18,14,6,26,15,10,4,2,5]\n",
    "print(selectionSort(L))"
   ]
  },
  {
   "cell_type": "code",
   "execution_count": 10,
   "metadata": {},
   "outputs": [],
   "source": [
    "def optimizedBubbleSort(a):\n",
    "    update=True\n",
    "    n=len(a)\n",
    "    while(update==True and n>1):\n",
    "        update = False\n",
    "        for i in range(len(a)-1):\n",
    "            if a[i]>a[i+1]:\n",
    "                a[i],a[i+1]=a[i+1],a[i]\n",
    "                update = True\n",
    "        n-=1\n",
    "    return a\n",
    "#Worst case O(n^2) and best case in a traditional bubble sort program would be O(n^2)\n",
    "#However, in this optimized Bubble sort, best case is O(n) for an already sorted array."
   ]
  },
  {
   "cell_type": "code",
   "execution_count": 11,
   "metadata": {},
   "outputs": [
    {
     "name": "stdout",
     "output_type": "stream",
     "text": [
      "[1, 2, 4, 5, 6, 10, 12, 14, 15, 18, 26, 35, 42]\n"
     ]
    }
   ],
   "source": [
    "L=[1,35,12,42,18,14,6,26,15,10,4,2,5]\n",
    "print(optimizedBubbleSort(L))"
   ]
  },
  {
   "cell_type": "code",
   "execution_count": 15,
   "metadata": {},
   "outputs": [],
   "source": [
    "def merge(S1, S2, S):\n",
    "  i = j = 0\n",
    "  while i + j < len(S):\n",
    "    if j == len(S2) or (i < len(S1) and S1[i] < S2[j]):\n",
    "      S[i+j] = S1[i]    \n",
    "      i += 1\n",
    "    else:\n",
    "      S[i+j] = S2[j]    \n",
    "      j += 1\n",
    "\n",
    "def merge_sort(S):\n",
    "  n = len(S)\n",
    "  if n < 2:\n",
    "    return              \n",
    "  mid = n // 2\n",
    "  S1 = S[0:mid]           # copy of first half\n",
    "  S2 = S[mid:n]           # copy of second half\n",
    "  merge_sort(S1)          # sort copy of first half\n",
    "  merge_sort(S2)          # sort copy of second half\n",
    "  merge(S1, S2, S)        # merge sorted halves back into S\n",
    "  return S\n",
    "#One of the most powerful algorithms in use.\n",
    "#Merge sort Worst case/Best case complexity is O(nlogn)\n",
    "#Merge sort, as it evaluates one 'part' at a time, makes it an efficient algorithm for large datasets.\n",
    "#Python's sort() and sorted() are partly based on merge sort"
   ]
  },
  {
   "cell_type": "code",
   "execution_count": 16,
   "metadata": {},
   "outputs": [
    {
     "name": "stdout",
     "output_type": "stream",
     "text": [
      "[1, 2, 4, 5, 6, 10, 12, 14, 15, 18, 26, 35, 42]\n"
     ]
    }
   ],
   "source": [
    "L=[1,35,12,42,18,14,6,26,15,10,4,2,5]\n",
    "print(merge_sort(L))"
   ]
  },
  {
   "cell_type": "code",
   "execution_count": 18,
   "metadata": {},
   "outputs": [],
   "source": [
    "def inplace_quick_sort(S, a,b):\n",
    "  if a >= b: return                                      # range is trivially sorted\n",
    "  pivot = S[b]                                           # last element of range is pivot\n",
    "  left = a                                               # will scan rightward\n",
    "  right = b-1                                            # will scan leftward\n",
    "  while left <= right:\n",
    "    # scan until reaching value equal or larger than pivot (or right marker)\n",
    "    while left <= right and S[left] < pivot:\n",
    "      left += 1\n",
    "    # scan until reaching value equal or smaller than pivot (or left marker)\n",
    "    while left <= right and pivot < S[right]:\n",
    "      right -= 1\n",
    "    if left <= right:                                    # scans did not strictly cross\n",
    "      S[left], S[right] = S[right], S[left]              # swap values\n",
    "      left, right = left + 1, right - 1                  # shrink range\n",
    "\n",
    "  # put pivot into its final place (currently marked by left index)\n",
    "  S[left], S[b] = S[b], S[left]\n",
    "  # make recursive calls\n",
    "  inplace_quick_sort(S, a, left - 1)\n",
    "  inplace_quick_sort(S, left + 1, b)\n",
    "  return S\n",
    "#inplace Quick sort is also one of the most effective algorithms around\n",
    "#Worst case occurs when the list is sorted in reverse as we usually select the last element as pivot.\n",
    "#Even though Quicksort a=has a time complexity of O(n^2)\n",
    "#it is found out that quicksort does better than even heap sort and merge sort in most of the circumstances"
   ]
  },
  {
   "cell_type": "code",
   "execution_count": 20,
   "metadata": {},
   "outputs": [
    {
     "name": "stdout",
     "output_type": "stream",
     "text": [
      "[1, 2, 4, 5, 6, 10, 12, 14, 15, 18, 26, 35, 42]\n"
     ]
    }
   ],
   "source": [
    "L=[1,35,12,42,18,14,6,26,15,10,4,2,5]\n",
    "print(inplace_quick_sort(L,0,len(L)-1))"
   ]
  },
  {
   "cell_type": "code",
   "execution_count": 32,
   "metadata": {},
   "outputs": [],
   "source": [
    "\n",
    "class radix():\n",
    "    def __init__(self,alist):\n",
    "        self.alist=alist\n",
    "\n",
    "    def radix_sort(self, base=10):\n",
    "        alist=self.alist\n",
    "        if alist == []:\n",
    "            return\n",
    "    \n",
    "        def key_factory(digit, base):\n",
    "            def key(alist, index):\n",
    "                return ((alist[index]//(base**digit)) % base)\n",
    "            return key\n",
    "        largest = max(alist)\n",
    "        exp = 0\n",
    "        while base**exp <= largest:\n",
    "            alist = self.counting_sort(alist, base - 1, key_factory(exp, base))\n",
    "            exp = exp + 1\n",
    "        return alist\n",
    "    \n",
    "    def counting_sort(self,alist, largest, key):\n",
    "        c = [0]*(largest + 1)\n",
    "        for i in range(len(alist)):\n",
    "            c[key(alist, i)] = c[key(alist, i)] + 1\n",
    "    \n",
    "        # Find the last index for each element\n",
    "        c[0] = c[0] - 1 # to decrement each element for zero-based indexing\n",
    "        for i in range(1, largest + 1):\n",
    "            c[i] = c[i] + c[i - 1]\n",
    "    \n",
    "        result = [None]*len(alist)\n",
    "        for i in range(len(alist) - 1, -1, -1):\n",
    "            result[c[key(alist, i)]] = alist[i]\n",
    "            c[key(alist, i)] = c[key(alist, i)] - 1\n",
    "    \n",
    "        return result\n",
    "#Radix sort runs in linear time, worst case being O(n+N), where N is the largest no. in the sequence.\n",
    "#Hence, Radix sort works amazingly fast on small datasets, character strings etc.\n",
    "#However, Radix sort is not generally preferred for general purpose sorting."
   ]
  },
  {
   "cell_type": "code",
   "execution_count": 31,
   "metadata": {},
   "outputs": [
    {
     "name": "stdout",
     "output_type": "stream",
     "text": [
      "[1, 2, 4, 5, 6, 10, 12, 14, 15, 18, 26, 35, 42]\n"
     ]
    }
   ],
   "source": [
    "L=[1,35,12,42,18,14,6,26,15,10,4,2,5]\n",
    "t=radix(L)\n",
    "print(t.radix_sort())"
   ]
  }
 ],
 "metadata": {
  "kernelspec": {
   "display_name": "Python 3",
   "language": "python",
   "name": "python3"
  },
  "language_info": {
   "codemirror_mode": {
    "name": "ipython",
    "version": 3
   },
   "file_extension": ".py",
   "mimetype": "text/x-python",
   "name": "python",
   "nbconvert_exporter": "python",
   "pygments_lexer": "ipython3",
   "version": "3.7.4"
  }
 },
 "nbformat": 4,
 "nbformat_minor": 2
}
