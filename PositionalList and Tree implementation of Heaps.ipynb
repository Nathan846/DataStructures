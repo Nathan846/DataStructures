{
 "cells": [
  {
   "cell_type": "code",
   "execution_count": 2,
   "metadata": {},
   "outputs": [],
   "source": [
    "class DoublyLinkedBase:\n",
    "    class Node:\n",
    "        __slots__ = 'element' , 'prev' , 'next'\n",
    "        def __init__(self, element, prev, next): # initialize node’s fields\n",
    "            self.element = element # user’s element\n",
    "            self.prev = prev # previous node reference\n",
    "            self.next = next\n",
    "    def __init__(self):\n",
    "        self.header = self.Node(None, None, None)\n",
    "        self.trailer = self.Node(None, None, None)\n",
    "        self.header.next = self.trailer # trailer is after header\n",
    "        self.trailer.prev = self.header # header is before trailer\n",
    "        self.size = 0 # number of elements\n",
    "    def __len__(self):\n",
    "        return self.size\n",
    "    def is_empty(self):\n",
    "        return self.size == 0\n",
    "    def insert_between(self, e, predecessor, successor):\n",
    "        newest = self.Node(e, predecessor, successor) # linked to neighbors\n",
    "        predecessor.next = newest\n",
    "        successor.prev = newest\n",
    "        self.size+=1\n",
    "        return newest\n",
    "    def delete_node(self,node):\n",
    "        predecessor = node.prev\n",
    "        successor = node.next\n",
    "        predecessor.next = successor\n",
    "        successor.prev = predecessor\n",
    "        self.size=self.size-1\n",
    "        element = node.element # record deleted element\n",
    "        node.prev = node.next = node.element = None # deprecate node\n",
    "        return element # return deleted element\n",
    "class PositionalList(DoublyLinkedBase):\n",
    "    class Position:\n",
    "        def __init__(self, container, node):\n",
    "            self.container = container\n",
    "            self.node = node\n",
    "        def element(self):\n",
    "            return self.node.element\n",
    "        def eq (self, other):\n",
    "            return type(other) is type(self) and other. node is self. node\n",
    "        def ne (self, other):\n",
    "            return not(self == other) # opposite of eq\n",
    "    def validate(self, p):\n",
    "        if not isinstance(p, self.Position):\n",
    "            raise TypeError(\"p must be proper Position type\")\n",
    "        if p. container is not self:\n",
    "            raise ValueError(\"p does not belong to this container\")\n",
    "        if p. node. next is None: # convention for deprecated nodes\n",
    "            raise ValueError(\"p is no longer valid\")\n",
    "        return p. node\n",
    "    def make_position(self, node):\n",
    "        if node is self.header or node is self.trailer:\n",
    "            return None\n",
    "        else:\n",
    "            return self.Position(self, node) # legitimate position\n",
    "    def first(self):\n",
    "        return self.make_position(self.header.next)\n",
    "    def last(self):\n",
    "        return self.make_position(self.trailer.prev)\n",
    "    def before(self, p):\n",
    "        node = self.validate(p)\n",
    "        return self.make_position(node.prev)\n",
    "    def after(self, p):\n",
    "        node = self.validate(p)\n",
    "        return self.make_position(node.next)\n",
    "    def __iter__(self):\n",
    "        cursor = self.first()\n",
    "        while cursor is not None:\n",
    "            yield cursor.element()\n",
    "            cursor = self.after(cursor)\n",
    "    def insert_between(self, e, predecessor, successor):\n",
    "        node = super().insert_between(e, predecessor, successor)\n",
    "        return self.make_position(node)\n",
    "    def add_first(self, e):\n",
    "        return self.insert_between(e, self.header, self.header.next)\n",
    "    def add_last(self, e):\n",
    "        return self.insert_between(e, self.trailer.prev, self.trailer)\n",
    "    def add_before(self, p, e):\n",
    "        original = self.validate(p)\n",
    "        return self.insert_between(e, original.prev, original)\n",
    "    def add_after(self, p, e):\n",
    "        original = self.validate(p)\n",
    "        return self.insert_between(e, original, original.next)\n",
    "    def delete(self, p):\n",
    "        original = self.validate(p)\n",
    "        return self.delete_node(original) # inherited method returns element\n",
    "    def replace(self, p, e):\n",
    "        original = self.validate(p)\n",
    "        old_value = original.element # temporarily store old element\n",
    "        original.element = e # replace with new element\n",
    "        return old_value\n",
    "F=PositionalList()\n",
    "t=F.add_first(4)\n",
    "h=F.add_after(t,6)"
   ]
  },
  {
   "cell_type": "code",
   "execution_count": 5,
   "metadata": {},
   "outputs": [
    {
     "name": "stdout",
     "output_type": "stream",
     "text": [
      "2\n"
     ]
    }
   ],
   "source": [
    "import math\n",
    "print(math.ceil(math.sqrt(4)))"
   ]
  },
  {
   "cell_type": "code",
   "execution_count": 3,
   "metadata": {},
   "outputs": [],
   "source": [
    "class PriorityQueueBase:\n",
    "    class Item:\n",
    "        __slots__='key','value'\n",
    "        def __init__(self,k,v):\n",
    "            self.key=k\n",
    "            self.value=v\n",
    "        def __lt__(self,other):\n",
    "            return self.key<other.key\n",
    "    def is_empty(self):\n",
    "        return len(self)==0"
   ]
  },
  {
   "cell_type": "code",
   "execution_count": 41,
   "metadata": {},
   "outputs": [
    {
     "name": "stdout",
     "output_type": "stream",
     "text": [
      "(1, 'F')\n",
      "(1, 'F')\n",
      "(1, 'A')\n"
     ]
    }
   ],
   "source": [
    "'''This is an Unordered PositionalList implementation of Heap\n",
    "'Unordered' refers to the fact that we insert the data first and then,\n",
    "we search for the minimum element in the PositionalList.\n",
    "This makes add operation in O(1) time while\n",
    "remove_min or min(minsky) operation takes O(n) time.\n",
    "'''\n",
    "\n",
    "class UnorderedPQ(PriorityQueueBase):\n",
    "    def find_min(self):\n",
    "        if(self.is_empty()):\n",
    "            raise Empty(\"empty\")\n",
    "        small=self.data.first()\n",
    "        walk=self.data.after(small)\n",
    "        while(walk is not None):\n",
    "            if(walk.element() < small.element()):\n",
    "                small=walk\n",
    "            walk=self.data.after(walk)\n",
    "        return small\n",
    "    def __init__(self):\n",
    "        self.data=PositionalList()\n",
    "    def __len__(self):\n",
    "        return len(self.data)\n",
    "    def add(self,key,value):\n",
    "        self.data.add_last(self.Item(key,value))\n",
    "    def minsky(self):\n",
    "        p=self.find_min()\n",
    "        item=p.element()\n",
    "        return (item.key,item.value)\n",
    "    def remove_min(self):\n",
    "        p=self.find_min()\n",
    "        item=self.data.delete(p)\n",
    "        return (item.key,item.value)\n",
    "L=UnorderedPQ()\n",
    "L.add(4,'B')\n",
    "L.add(6,'C')\n",
    "L.add(1,'F')\n",
    "L.add(1,'A')\n",
    "print(L.minsky())        \n",
    "print(L.remove_min())\n",
    "print(L.minsky())"
   ]
  },
  {
   "cell_type": "code",
   "execution_count": 52,
   "metadata": {},
   "outputs": [
    {
     "name": "stdout",
     "output_type": "stream",
     "text": [
      "(4, 1)\n",
      "(6, 'A')\n"
     ]
    }
   ],
   "source": [
    "class OrderedPQ(PriorityQueueBase):\n",
    "    def add(self,key,value):\n",
    "        newest=self.Item(key,value)\n",
    "        walk=self.data.last()\n",
    "        while(walk is not None and newest<walk.element()):\n",
    "            walk=self.data.before(walk)\n",
    "        if(walk is None):\n",
    "            self.data.add_first(newest)\n",
    "        else:\n",
    "            self.data.add_after(walk,newest)\n",
    "    def minsky(self):\n",
    "        f=self.data.first()\n",
    "        f=f.element()\n",
    "        return (f.key,f.value)\n",
    "    def __init__(self):\n",
    "        self.data=PositionalList()\n",
    "    def __len__(self):\n",
    "        return len(self.data)\n",
    "    def remove_min(self):\n",
    "        p=self.data.delete(self.data.first())\n",
    "        return (p.key,p.value)\n",
    "PQ=OrderedPQ()\n",
    "h=PQ.add(6,'A')\n",
    "j=PQ.add(4,1)#ducktyping in practice\n",
    "print(PQ.remove_min())\n",
    "print(PQ.minsky())"
   ]
  },
  {
   "cell_type": "code",
   "execution_count": 26,
   "metadata": {},
   "outputs": [
    {
     "name": "stdout",
     "output_type": "stream",
     "text": [
      "2 1\n"
     ]
    }
   ],
   "source": []
  },
  {
   "cell_type": "code",
   "execution_count": 27,
   "metadata": {},
   "outputs": [
    {
     "name": "stdout",
     "output_type": "stream",
     "text": [
      "1 2 3 4\n"
     ]
    }
   ],
   "source": []
  },
  {
   "cell_type": "code",
   "execution_count": 45,
   "metadata": {},
   "outputs": [],
   "source": [
    "class PrioritQueueBase:\n",
    "    class Item:\n",
    "        __slots__='key','value'\n",
    "        def __init__(self,k,v):\n",
    "            self.key=k\n",
    "            self.value=v\n",
    "        def __lt__(self,other):\n",
    "            return self.key < other.key\n",
    "    def isempty(self):\n",
    "        return len(self)==0\n"
   ]
  },
  {
   "cell_type": "code",
   "execution_count": 62,
   "metadata": {},
   "outputs": [
    {
     "name": "stdout",
     "output_type": "stream",
     "text": [
      "[<__main__.PriorityQueueBase.Item object at 0x000001EDA0D33908>, <__main__.PriorityQueueBase.Item object at 0x000001EDA0D33788>, <__main__.PriorityQueueBase.Item object at 0x000001EDA0D33748>]\n",
      "(4, 'A')\n",
      "(4, 'A')\n",
      "(1, 'A')\n"
     ]
    }
   ],
   "source": [
    "class HeapPriorityQueue(PriorityQueueBase):\n",
    "    def is_empty(self):\n",
    "        return len(self.data)==0\n",
    "    def parent(self,j):\n",
    "        return (j-1)//2\n",
    "    def right(self,j):\n",
    "        return (2*j+1)//2\n",
    "    def left(self,j):\n",
    "        return (2*j+2)//2\n",
    "    def has_right(self,j):\n",
    "        return self.right(j) < len(self.data)\n",
    "    def has_left(self,j):\n",
    "        return self.left(j) < len(self.data)\n",
    "    def swap(self,i,j):\n",
    "        self.data[i],self.data[j] = self.data[j],self.data[i]\n",
    "    def upheap(self,j):\n",
    "        parent=self.parent(j)\n",
    "        #print(p.key)\n",
    "        if(j>0 and self.data[j]<self.data[parent]):\n",
    "            self.swap(j,parent)\n",
    "            self.upheap(parent)\n",
    "    def downheap(self,j):\n",
    "        if(self.has_left(j)):\n",
    "            #for i in range(len(self.data)):\n",
    "                #print(self.data[i].key,self.data[i].value,i)\n",
    "            left=self.left(j)\n",
    "            small_child=left\n",
    "            if(self.has_right(j)):\n",
    "                right=self.right(j)\n",
    "                if(self.data[right]<self.data[left]):\n",
    "                    small_child=right\n",
    "                if(self.data[small_child]<self.data[j]):\n",
    "                    self.swap(j,small_child)\n",
    "                    self.downheap(small_child)\n",
    "    def __init__(self,contents=()):\n",
    "        self.data=[self.Item(k,v) for k,v in contents]\n",
    "        if(len(self.data)>1):\n",
    "            print(self.data)\n",
    "            self.heapify()\n",
    "    def heapify(self):\n",
    "        start=self.parent(len(self.data)-1)\n",
    "        for j in range(start,0,-1):\n",
    "            print(self.data[j].key)\n",
    "            self.downheap(j)\n",
    "    def minsky(self):\n",
    "        if(self.is_empty()):\n",
    "            raise Empty('empty')\n",
    "        item=self.data[0]\n",
    "        return item.key,item.value\n",
    "    def remove_min(self):\n",
    "        if(self.is_empty()):\n",
    "            raise Empty('empty')\n",
    "        self.swap(0,len(self.data)-1)\n",
    "        item=self.data.pop()\n",
    "        self.downheap(0)\n",
    "        return item.key,item.value\n",
    "    def add(self,i,k):\n",
    "        t=self.Item(i,k)\n",
    "        self.data.append(t)\n",
    "        self.upheap(len(self.data)-1)\n",
    "t=HeapPriorityQueue(((6,'l'),(9,'sd'),(0.1,'k')))\n",
    "t.add(5,'A')\n",
    "t.add(4,'A')\n",
    "t.add(6,'A')\n",
    "t.add(1,'A')\n",
    "print(t.minsky())\n",
    "print(t.remove_min())\n",
    "print(t.minsky())"
   ]
  },
  {
   "cell_type": "code",
   "execution_count": 1,
   "metadata": {},
   "outputs": [
    {
     "name": "stdout",
     "output_type": "stream",
     "text": [
      "[1, 2, 5, 3, 6, 7]\n",
      "1\n",
      "[3, 5, 4, 5, 6, 7]\n",
      "[4, 5, 7, 5, 6, 10]\n",
      "[10, 7, 6, 5]\n",
      "[4, 5, 5, 6]\n"
     ]
    }
   ],
   "source": [
    "'''Pythons Heapq module'''\n",
    "import heapq\n",
    "L=[1,6,5,3,2,7]\n",
    "heapq.heapify(L)\n",
    "print(L)\n",
    "heapq.heappush(L,4)\n",
    "print(heapq.heappop(L))\n",
    "heapq.heappushpop(L,5)\n",
    "print(L)\n",
    "heapq.heapreplace(L,10)\n",
    "print(L)\n",
    "print(heapq.nlargest(4,L))\n",
    "print(heapq.nsmallest(4,L))"
   ]
  },
  {
   "cell_type": "code",
   "execution_count": null,
   "metadata": {},
   "outputs": [],
   "source": [
    "def ag(a=0):\n",
    "    a+=1\n",
    "    ag(a)\n",
    "    print(a)\n",
    "t=0\n",
    "ag()\n",
    "print(t)"
   ]
  }
 ],
 "metadata": {
  "kernelspec": {
   "display_name": "Python 3",
   "language": "python",
   "name": "python3"
  },
  "language_info": {
   "codemirror_mode": {
    "name": "ipython",
    "version": 3
   },
   "file_extension": ".py",
   "mimetype": "text/x-python",
   "name": "python",
   "nbconvert_exporter": "python",
   "pygments_lexer": "ipython3",
   "version": "3.7.4"
  }
 },
 "nbformat": 4,
 "nbformat_minor": 2
}
